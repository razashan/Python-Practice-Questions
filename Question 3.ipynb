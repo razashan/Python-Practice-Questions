{
 "cells": [
  {
   "cell_type": "markdown",
   "id": "c306e4d6",
   "metadata": {},
   "source": [
    "# Unique usernames\n",
    "You get an list of names and need to return a list of unique usernames. For a duplicate name, add the next integer after the name"
   ]
  },
  {
   "cell_type": "code",
   "execution_count": 4,
   "id": "dba4e708",
   "metadata": {},
   "outputs": [],
   "source": [
    "a = ['Julie', 'Emma', 'Zoe', 'Liam', 'Emma']"
   ]
  },
  {
   "cell_type": "code",
   "execution_count": 13,
   "id": "b125b888",
   "metadata": {},
   "outputs": [],
   "source": [
    "usernames = []\n",
    "for name in a[0:]:\n",
    "    if name not in usernames:\n",
    "        usernames.append(name)\n",
    "    else:\n",
    "        count = sum(name in user for user in usernames)\n",
    "        usernames.append(name+str(count))"
   ]
  },
  {
   "cell_type": "code",
   "execution_count": 14,
   "id": "6a2cc47b",
   "metadata": {},
   "outputs": [
    {
     "data": {
      "text/plain": [
       "['Julie', 'Emma', 'Zoe', 'Liam', 'Emma1']"
      ]
     },
     "execution_count": 14,
     "metadata": {},
     "output_type": "execute_result"
    }
   ],
   "source": [
    "usernames"
   ]
  },
  {
   "cell_type": "code",
   "execution_count": null,
   "id": "9913b463",
   "metadata": {},
   "outputs": [],
   "source": []
  }
 ],
 "metadata": {
  "kernelspec": {
   "display_name": "Python 3 (ipykernel)",
   "language": "python",
   "name": "python3"
  },
  "language_info": {
   "codemirror_mode": {
    "name": "ipython",
    "version": 3
   },
   "file_extension": ".py",
   "mimetype": "text/x-python",
   "name": "python",
   "nbconvert_exporter": "python",
   "pygments_lexer": "ipython3",
   "version": "3.9.7"
  }
 },
 "nbformat": 4,
 "nbformat_minor": 5
}
