{
 "cells": [
  {
   "cell_type": "code",
   "execution_count": 3,
   "id": "f9f4df3a",
   "metadata": {},
   "outputs": [],
   "source": [
    "a = 'Hey I love going to the park'"
   ]
  },
  {
   "cell_type": "code",
   "execution_count": 8,
   "id": "0c7873b5",
   "metadata": {},
   "outputs": [],
   "source": [
    "index = 0 \n",
    "new_sentence = ''\n",
    "for i in a.split():\n",
    "    if index %2==1:\n",
    "        new_sentence += \" Hello \"\n",
    "    else:\n",
    "        new_sentence+=i\n",
    "    index+=1"
   ]
  },
  {
   "cell_type": "code",
   "execution_count": 9,
   "id": "fd39462a",
   "metadata": {},
   "outputs": [
    {
     "data": {
      "text/plain": [
       "'Hey Hello love Hello to Hello park'"
      ]
     },
     "execution_count": 9,
     "metadata": {},
     "output_type": "execute_result"
    }
   ],
   "source": [
    "new_sentence"
   ]
  },
  {
   "cell_type": "code",
   "execution_count": null,
   "id": "84ebc8c5",
   "metadata": {},
   "outputs": [],
   "source": []
  }
 ],
 "metadata": {
  "kernelspec": {
   "display_name": "Python 3 (ipykernel)",
   "language": "python",
   "name": "python3"
  },
  "language_info": {
   "codemirror_mode": {
    "name": "ipython",
    "version": 3
   },
   "file_extension": ".py",
   "mimetype": "text/x-python",
   "name": "python",
   "nbconvert_exporter": "python",
   "pygments_lexer": "ipython3",
   "version": "3.9.7"
  }
 },
 "nbformat": 4,
 "nbformat_minor": 5
}
