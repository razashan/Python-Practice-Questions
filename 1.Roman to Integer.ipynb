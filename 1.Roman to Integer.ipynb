{
 "cells": [
  {
   "cell_type": "markdown",
   "id": "c2a850b4",
   "metadata": {},
   "source": [
    "### Roman numerals are represented by seven different symbols: I, V, X, L, C, D and M."
   ]
  },
  {
   "cell_type": "code",
   "execution_count": 10,
   "id": "051aa3ed",
   "metadata": {},
   "outputs": [],
   "source": [
    "def check(x):\n",
    "    sum= 0\n",
    "    data = {'I':1,'V':5,'X':10,'L':50,'C':100,'D':500,'M':1000}\n",
    "    for i in x:\n",
    "        if i in data:\n",
    "            sum = sum+ data[i]\n",
    "    return sum"
   ]
  },
  {
   "cell_type": "code",
   "execution_count": 14,
   "id": "3f1171f3",
   "metadata": {},
   "outputs": [
    {
     "data": {
      "text/plain": [
       "6"
      ]
     },
     "execution_count": 14,
     "metadata": {},
     "output_type": "execute_result"
    }
   ],
   "source": [
    "check(\"IV\")"
   ]
  },
  {
   "cell_type": "code",
   "execution_count": 26,
   "id": "bb6b296a",
   "metadata": {},
   "outputs": [],
   "source": [
    "class Solution(object):\n",
    "    def romanToInt(self, s):\n",
    "        \"\"\"\n",
    "        :type s: str\n",
    "        :rtype: int\n",
    "        \"\"\"\n",
    "        sum = 0\n",
    "        data = {\n",
    "            'I': 1, 'V': 5, 'X': 10, 'L': 50, 'C': 100, 'D': 500, 'M': 1000\n",
    "        }\n",
    "        prev_val = 0  # Keep track of the previous value\n",
    "        \n",
    "        for i in s:\n",
    "            if i in data:\n",
    "                curr_val = data[i]\n",
    "                if curr_val > prev_val:\n",
    "                    # Subtraction case: e.g., IV, IX, XL, XC, CD, CM\n",
    "                    sum += curr_val - (2 * prev_val)\n",
    "                else:\n",
    "                    sum += curr_val\n",
    "                prev_val = curr_val\n",
    "        \n",
    "        return sum\n"
   ]
  },
  {
   "cell_type": "code",
   "execution_count": 27,
   "id": "caf763f6",
   "metadata": {},
   "outputs": [],
   "source": [
    "s = Solution()"
   ]
  },
  {
   "cell_type": "code",
   "execution_count": 28,
   "id": "e5fc33bc",
   "metadata": {},
   "outputs": [
    {
     "data": {
      "text/plain": [
       "1994"
      ]
     },
     "execution_count": 28,
     "metadata": {},
     "output_type": "execute_result"
    }
   ],
   "source": [
    "s.romanToInt(\"MCMXCIV\")"
   ]
  },
  {
   "cell_type": "code",
   "execution_count": null,
   "id": "f504c1cc",
   "metadata": {},
   "outputs": [],
   "source": []
  },
  {
   "cell_type": "code",
   "execution_count": null,
   "id": "0a101f96",
   "metadata": {},
   "outputs": [],
   "source": []
  }
 ],
 "metadata": {
  "kernelspec": {
   "display_name": "Python 3 (ipykernel)",
   "language": "python",
   "name": "python3"
  },
  "language_info": {
   "codemirror_mode": {
    "name": "ipython",
    "version": 3
   },
   "file_extension": ".py",
   "mimetype": "text/x-python",
   "name": "python",
   "nbconvert_exporter": "python",
   "pygments_lexer": "ipython3",
   "version": "3.9.7"
  }
 },
 "nbformat": 4,
 "nbformat_minor": 5
}
