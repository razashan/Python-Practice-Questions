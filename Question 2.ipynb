{
 "cells": [
  {
   "cell_type": "code",
   "execution_count": 4,
   "id": "2198907b",
   "metadata": {},
   "outputs": [],
   "source": [
    "nums = [2,7,11,15]\n",
    "target = 18\n",
    "def check(nums,target):\n",
    "    for i in range(len(nums)):\n",
    "        for j in range(i+1,len(nums)):\n",
    "            if nums[i] +nums[j]==target:\n",
    "                return [i,j]\n",
    "        "
   ]
  },
  {
   "cell_type": "code",
   "execution_count": 5,
   "id": "f896fbfd",
   "metadata": {},
   "outputs": [
    {
     "data": {
      "text/plain": [
       "[1, 2]"
      ]
     },
     "execution_count": 5,
     "metadata": {},
     "output_type": "execute_result"
    }
   ],
   "source": [
    "check(nums,target)"
   ]
  },
  {
   "cell_type": "markdown",
   "id": "962eb4aa",
   "metadata": {},
   "source": [
    "## Reverse an stringwithout affecting special characters"
   ]
  },
  {
   "cell_type": "code",
   "execution_count": 24,
   "id": "8c8a3be2",
   "metadata": {},
   "outputs": [],
   "source": [
    "def reverse(s):\n",
    "    l = 0\n",
    "    r = len(s)-1\n",
    "    s = list(s)\n",
    "    while l <r:\n",
    "        if not isAlphabet(s[l]):\n",
    "            l+=1\n",
    "        elif not isAlphabet(s[r]):\n",
    "            r-=1\n",
    "        else:\n",
    "            s[l], s[r] = s[r],s[l]\n",
    "            l+=1\n",
    "            r-=1\n",
    "    return ''.join(s)\n",
    "\n",
    "def isAlphabet(x):\n",
    "    return x.isalpha()"
   ]
  },
  {
   "cell_type": "code",
   "execution_count": 25,
   "id": "803f893c",
   "metadata": {},
   "outputs": [
    {
     "data": {
      "text/plain": [
       "'xb$a'"
      ]
     },
     "execution_count": 25,
     "metadata": {},
     "output_type": "execute_result"
    }
   ],
   "source": [
    "reverse('ab$x')"
   ]
  },
  {
   "cell_type": "code",
   "execution_count": 26,
   "id": "e55f6a50",
   "metadata": {},
   "outputs": [
    {
     "data": {
      "text/plain": [
       "'cba$%'"
      ]
     },
     "execution_count": 26,
     "metadata": {},
     "output_type": "execute_result"
    }
   ],
   "source": [
    "reverse(\"abc$%\")"
   ]
  },
  {
   "cell_type": "markdown",
   "id": "7abd6add",
   "metadata": {},
   "source": [
    "## Sort the Odd Numbers"
   ]
  },
  {
   "cell_type": "code",
   "execution_count": 31,
   "id": "8bc6a298",
   "metadata": {},
   "outputs": [],
   "source": [
    "Result =  [1, 3, 2, 8, 5, 4]"
   ]
  },
  {
   "cell_type": "code",
   "execution_count": 52,
   "id": "0e3cc23e",
   "metadata": {},
   "outputs": [],
   "source": [
    "a = [5, 3, 2, 8, 1, 4]"
   ]
  },
  {
   "cell_type": "code",
   "execution_count": 53,
   "id": "9e7956e2",
   "metadata": {},
   "outputs": [],
   "source": [
    "new_array = []\n",
    "for i in a :\n",
    "    if i%2==1:\n",
    "        new_array.append(i)\n",
    "    else:\n",
    "        pass"
   ]
  },
  {
   "cell_type": "code",
   "execution_count": 54,
   "id": "b49ff7e2",
   "metadata": {},
   "outputs": [],
   "source": [
    "new_array\n",
    "new_array.sort(reverse=True)"
   ]
  },
  {
   "cell_type": "code",
   "execution_count": 55,
   "id": "64fe85be",
   "metadata": {},
   "outputs": [],
   "source": [
    "for i,r in enumerate(a):\n",
    "    if r%2==1:\n",
    "        a[i] = new_array.pop()\n",
    "    "
   ]
  },
  {
   "cell_type": "code",
   "execution_count": 56,
   "id": "2baacb43",
   "metadata": {},
   "outputs": [
    {
     "data": {
      "text/plain": [
       "[1, 3, 2, 8, 5, 4]"
      ]
     },
     "execution_count": 56,
     "metadata": {},
     "output_type": "execute_result"
    }
   ],
   "source": [
    "a"
   ]
  },
  {
   "cell_type": "code",
   "execution_count": null,
   "id": "f5460848",
   "metadata": {},
   "outputs": [],
   "source": []
  }
 ],
 "metadata": {
  "kernelspec": {
   "display_name": "Python 3 (ipykernel)",
   "language": "python",
   "name": "python3"
  },
  "language_info": {
   "codemirror_mode": {
    "name": "ipython",
    "version": 3
   },
   "file_extension": ".py",
   "mimetype": "text/x-python",
   "name": "python",
   "nbconvert_exporter": "python",
   "pygments_lexer": "ipython3",
   "version": "3.9.7"
  }
 },
 "nbformat": 4,
 "nbformat_minor": 5
}
